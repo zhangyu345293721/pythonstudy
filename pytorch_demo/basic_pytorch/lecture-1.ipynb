{
 "cells": [
  {
   "cell_type": "markdown",
   "metadata": {},
   "source": [
    "# 基本操作"
   ]
  },
  {
   "cell_type": "code",
   "execution_count": 2,
   "metadata": {},
   "outputs": [
    {
     "name": "stdout",
     "output_type": "stream",
     "text": [
      "\n",
      "numpy data = \n",
      " [[0 1 2]\n",
      " [3 4 5]]\n",
      "\n",
      "torch data = \n",
      " tensor([[0, 1, 2],\n",
      "        [3, 4, 5]])\n",
      "\n",
      "转换后 \n",
      " [[0 1 2]\n",
      " [3 4 5]]\n"
     ]
    }
   ],
   "source": [
    "import torch\n",
    "import numpy as np\n",
    "# 比较torch数据和numpy数据\n",
    "numpy_data = np.arange(6).reshape(2,3)\n",
    "torch_data = torch.from_numpy(numpy_data)\n",
    "print(\"\\nnumpy data = \\n\",numpy_data)\n",
    "print(\"\\ntorch data = \\n\",torch_data)\n",
    "\n",
    "# 将torch数据转为numpy数据\n",
    "to_numpy = torch_data.numpy()\n",
    "print(\"\\n转换后 \\n\",to_numpy)\n",
    "\n",
    "\n"
   ]
  },
  {
   "cell_type": "code",
   "execution_count": 3,
   "metadata": {},
   "outputs": [
    {
     "name": "stdout",
     "output_type": "stream",
     "text": [
      "tensor([-1., -2.,  3.,  4.])\n",
      "tensor([1., 2., 3., 4.])\n",
      "tensor([-0.8415, -0.9093,  0.1411, -0.7568])\n",
      "tensor(1.)\n"
     ]
    }
   ],
   "source": [
    "data = [-1,-2,3,4]\n",
    "tensor = torch.FloatTensor(data)\n",
    "print(tensor)\n",
    "# 各种常用操作\n",
    "print(torch.abs(tensor))\n",
    "print(torch.sin(tensor))\n",
    "print(torch.mean(tensor))"
   ]
  },
  {
   "cell_type": "code",
   "execution_count": 4,
   "metadata": {},
   "outputs": [
    {
     "name": "stdout",
     "output_type": "stream",
     "text": [
      "矩阵相乘=\n",
      " tensor([[ 7., 10.],\n",
      "        [15., 22.]])\n",
      "dot =  tensor(30.)\n"
     ]
    }
   ],
   "source": [
    "data = [[1,2],[3,4]]\n",
    "tensor = torch.FloatTensor(data)\n",
    "print(\"矩阵相乘=\\n\",torch.mm(tensor,tensor))\n",
    "# 下行代码会报错，注意torch里的dot只接受一维的张量，进行内积运算\n",
    "# print(\"dot = \",tensor.dot(tensor))\n",
    "data2 = np.array(data).flatten() # 展开形成一维的张量\n",
    "tensor2 = torch.FloatTensor(data2)\n",
    "print(\"dot = \",tensor2.dot(tensor2))\n"
   ]
  },
  {
   "cell_type": "markdown",
   "metadata": {},
   "source": [
    "# 变量"
   ]
  },
  {
   "cell_type": "code",
   "execution_count": 5,
   "metadata": {},
   "outputs": [
    {
     "name": "stdout",
     "output_type": "stream",
     "text": [
      "tensor([[1., 2.],\n",
      "        [3., 4.]])\n",
      "tensor([[1., 2.],\n",
      "        [3., 4.]], requires_grad=True)\n",
      "\n",
      "tensor(7.5000)\n",
      "tensor(7.5000, grad_fn=<MeanBackward0>)\n",
      "\n",
      "tensor([[0.5000, 1.0000],\n",
      "        [1.5000, 2.0000]])\n",
      "tensor([[1., 2.],\n",
      "        [3., 4.]], requires_grad=True)\n",
      "tensor([[1., 2.],\n",
      "        [3., 4.]])\n",
      "[[1. 2.]\n",
      " [3. 4.]]\n"
     ]
    }
   ],
   "source": [
    "import torch\n",
    "from torch.autograd import Variable\n",
    "tensor = torch.FloatTensor([[1,2],[3,4]])\n",
    "variable = Variable(tensor,requires_grad=True)\n",
    "print(tensor)\n",
    "print(variable)\n",
    "print()\n",
    "\n",
    "# 变量可以反向传播，普通的tensor不行\n",
    "t_out = torch.mean(tensor * tensor)\n",
    "v_out = torch.mean(variable * variable)\n",
    "print(t_out)\n",
    "print(v_out)\n",
    "print()\n",
    "\n",
    "# 误差反向传递 \n",
    "v_out.backward()\n",
    "'''\n",
    "v_out = 1/4 * sum(var,var)\n",
    "d(v_out)/d(var) = 1/4 * 2 * var = var/2\n",
    "'''\n",
    "print(variable.grad)\n",
    "print(variable)\n",
    "print(variable.data)\n",
    "print(variable.data.numpy())"
   ]
  },
  {
   "cell_type": "code",
   "execution_count": 6,
   "metadata": {},
   "outputs": [
    {
     "name": "stdout",
     "output_type": "stream",
     "text": [
      "tensor([[0.5000, 1.0000],\n",
      "        [1.5000, 2.0000]])\n",
      "tensor([[1., 2.],\n",
      "        [3., 4.]])\n"
     ]
    }
   ],
   "source": [
    "'''\n",
    "注意每次反向传播求完梯度后要记得清空，否则梯度会在原来的程度上累加！！！\n",
    "如果出现 RuntimeError: Trying to backward through the graph a second time, but the buffers have already been freed. Specify retain_graph=True when calling backward the first time.\n",
    "该问题是指在默认情况下，网络在反向传播中不允许多个backward()。需要在第一个backward设置retain_graph=True\n",
    "'''\n",
    "tensor = torch.FloatTensor([[1,2],[3,4]])\n",
    "v1 = Variable(tensor,requires_grad=True)\n",
    "res = torch.mean(v1*v1)\n",
    "res.backward(retain_graph=True)\n",
    "print(v1.grad)\n",
    "res.backward()\n",
    "print(v1.grad)\n"
   ]
  },
  {
   "cell_type": "markdown",
   "metadata": {},
   "source": [
    "# 激活函数"
   ]
  },
  {
   "cell_type": "code",
   "execution_count": 7,
   "metadata": {},
   "outputs": [
    {
     "name": "stderr",
     "output_type": "stream",
     "text": [
      "/home/zelin/mytorch/torch/lib64/python3.6/site-packages/torch/nn/functional.py:1386: UserWarning: nn.functional.sigmoid is deprecated. Use torch.sigmoid instead.\n",
      "  warnings.warn(\"nn.functional.sigmoid is deprecated. Use torch.sigmoid instead.\")\n",
      "/home/zelin/mytorch/torch/lib64/python3.6/site-packages/torch/nn/functional.py:1374: UserWarning: nn.functional.tanh is deprecated. Use torch.tanh instead.\n",
      "  warnings.warn(\"nn.functional.tanh is deprecated. Use torch.tanh instead.\")\n"
     ]
    },
    {
     "data": {
      "text/plain": [
       "<matplotlib.legend.Legend at 0x7f14f920ee10>"
      ]
     },
     "execution_count": 7,
     "metadata": {},
     "output_type": "execute_result"
    },
    {
     "data": {
      "image/png": "[encoded data removed]",
      "text/plain": [
       "<Figure size 576x432 with 4 Axes>"
      ]
     },
     "metadata": {
      "needs_background": "light"
     },
     "output_type": "display_data"
    }
   ],
   "source": [
    "import torch\n",
    "import torch.nn.functional as F\n",
    "from torch.autograd import Variable\n",
    "import matplotlib.pyplot as plt\n",
    "%matplotlib inline\n",
    "x = torch.linspace(-5,5,200)\n",
    "x = Variable(x)\n",
    "x_np = x.data.numpy()\n",
    "\n",
    "y_relu = F.relu(x).data.numpy()\n",
    "y_sigmoid = F.sigmoid(x).data.numpy()\n",
    "y_tanh = F.tanh(x).data.numpy()\n",
    "y_softplus = F.softplus(x).data.numpy()\n",
    "\n",
    "plt.figure(1,figsize=(8,6))\n",
    "plt.subplot(221)\n",
    "plt.plot(x_np,y_relu,c='red',label = 'relu')\n",
    "plt.ylim((-1,5))\n",
    "plt.legend(loc='best')\n",
    "\n",
    "plt.subplot(222)\n",
    "plt.plot(x_np,y_sigmoid,c='red',label='sigmoid')\n",
    "plt.ylim((-0.2,1.2))\n",
    "plt.legend(loc='best')\n",
    "\n",
    "plt.subplot(223)\n",
    "plt.plot(x_np,y_tanh,c='red',label='tanh')\n",
    "plt.ylim((-1.2,1.2))\n",
    "plt.legend(loc='best')\n",
    "\n",
    "plt.subplot(224)\n",
    "plt.plot(x_np,y_softplus,c='red',label='softplus')\n",
    "plt.ylim((-0.2,6))\n",
    "plt.legend(loc='best')"
   ]
  },
  {
   "cell_type": "markdown",
   "metadata": {},
   "source": [
    "# squeeze和unsqueeze函数\n",
    "squeeze()-降维\n",
    "\n",
    "unsqueeze()-升维"
   ]
  },
  {
   "cell_type": "code",
   "execution_count": 8,
   "metadata": {},
   "outputs": [
    {
     "name": "stdout",
     "output_type": "stream",
     "text": [
      "torch.Size([1, 1, 3]) a= tensor([[[1., 2., 3.]]])\n",
      "torch.Size([3]) b= tensor([1., 2., 3.])\n",
      "\n",
      "torch.Size([3]) b= tensor([1., 2., 3.])\n",
      "torch.Size([1, 3]) c= tensor([[1., 2., 3.]])\n",
      "torch.Size([3, 1]) d= tensor([[1.],\n",
      "        [2.],\n",
      "        [3.]])\n"
     ]
    }
   ],
   "source": [
    "'''\n",
    "squeeze 表示去除掉维度值为1的维度\n",
    "'''\n",
    "a = torch.FloatTensor([[[1,2,3]]])\n",
    "print(a.shape,\"a=\",a)\n",
    "b = a.squeeze()\n",
    "print(b.shape,\"b=\",b)\n",
    "print()\n",
    "'''\n",
    "unsqueeze 表示在指定dim(从0开始)上增加一个纬度值为1的维度\n",
    "'''\n",
    "print(b.shape,\"b=\",b)\n",
    "c = b.unsqueeze(dim=0)\n",
    "print(c.shape,\"c=\",c)\n",
    "d = b.unsqueeze(dim=1)\n",
    "print(d.shape,\"d=\",d)"
   ]
  }
 ],
 "metadata": {
  "kernelspec": {
   "display_name": "Python 3",
   "language": "python",
   "name": "python3"
  },
  "language_info": {
   "codemirror_mode": {
    "name": "ipython",
    "version": 3
   },
   "file_extension": ".py",
   "mimetype": "text/x-python",
   "name": "python",
   "nbconvert_exporter": "python",
   "pygments_lexer": "ipython3",
   "version": "3.6.8"
  }
 },
 "nbformat": 4,
 "nbformat_minor": 4
}
